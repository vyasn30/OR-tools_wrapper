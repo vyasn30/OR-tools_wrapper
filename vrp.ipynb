{
 "cells": [
  {
   "cell_type": "code",
   "execution_count": 6,
   "id": "3721277e-795e-43cf-9fa8-43a185318f17",
   "metadata": {},
   "outputs": [],
   "source": [
    "from ortools.constraint_solver import pywrapcp\n",
    "from ortools.constraint_solver import routing_enums_pb2"
   ]
  },
  {
   "cell_type": "code",
   "execution_count": 15,
   "id": "c33806bc-43c7-4e43-a565-386283323e44",
   "metadata": {},
   "outputs": [],
   "source": [
    "def create_data_model():\n",
    "    data = {}\n",
    "    data['distance_matrix'] = [[0.        ,  9.08150584, 11.52262012,  5.8282368 , 17.64029965],\n",
    "       [ 9.08150584,  0.        , 19.56945236,  6.977526  , 19.91500572],\n",
    "       [11.52262012, 19.56945236,  0.        , 13.18741504, 14.06403735],\n",
    "       [ 5.8282368 ,  6.977526  , 13.18741504,  0.        , 13.72528908],\n",
    "       [17.64029965, 19.91500572, 14.06403735, 13.72528908,  0.        ]]\n",
    "    \n",
    "    data['num_vehicles'] = 2\n",
    "    data['depot'] = 0\n",
    "    data['demands'] = [0, 3, 5, 2, 6]\n",
    "    data['vehicle_capacities'] = [10, 8]\n",
    "    \n",
    "    \n",
    "\n",
    "    \n",
    "    \n",
    "    \n",
    "    \n",
    "    return data"
   ]
  },
  {
   "cell_type": "code",
   "execution_count": 16,
   "id": "280dccc9-f37c-425e-9684-664de17b9a65",
   "metadata": {},
   "outputs": [],
   "source": [
    "def main():\n",
    "    data = create_data_model()\n",
    "    manager = pywrapcp.RoutingIndexManager(len(data['distance_matrix']), data['num_vehicles'], data['depot'] )\n",
    "    routing = pywrapcp.RoutingModel(manager)\n",
    "    \n",
    "    def distance_callback(from_index, to_index):\n",
    "        from_node = manager.IndexToNode(from_index)\n",
    "        to_node = manager.IndexToNode(to_index)\n",
    "        return data['distance_matrix'][from_node][to_node]\n",
    "    \n",
    "    \n",
    "#     def time_callback(from_index, to_index):\n",
    "#         from_node = manager.IndexToNode(from_index)\n",
    "#         to_node = manager.IndexToNode(to_node)\n",
    "#         return data['time_windows'][from_node][to_node]\n",
    "    \n",
    "    def demand_callback(from_index):\n",
    "        from_node = manager.IndexToNode(from_index)\n",
    "        return data['demands'][from_node]\n",
    "    \n",
    "    transit_callback_index = routing.RegisterTransitCallback(distance_callback)\n",
    "    demand_callback_index = routing.RegisterUnaryTransitCallback(demand_callback)\n",
    "    \n",
    "    \n",
    "    \n",
    "    routing.SetArcCostEvaluatorOfAllVehicles(transit_callback_index)\n",
    "\n",
    "\n",
    "        \n",
    "    \n",
    "    \n",
    "    routing.AddDimensionWithVehicleCapacity(\n",
    "        demand_callback_index,\n",
    "        0,\n",
    "        data['vehicle_capacities'],\n",
    "        True,\n",
    "        'Capacity'\n",
    "    )\n",
    "    \n",
    "    \n",
    "    search_parameters = pywrapcp.DefaultRoutingSearchParameters()\n",
    "    search_parameters.first_solution_strategy = (\n",
    "        routing_enums_pb2.FirstSolutionStrategy.PARALLEL_CHEAPEST_INSERTION\n",
    "    )\n",
    "\n",
    "    search_parameters.local_search_metaheuristic = (\n",
    "        routing_enums_pb2.LocalSearchMetaheuristic.GUIDED_LOCAL_SEARCH\n",
    "    )\n",
    "    \n",
    "    search_parameters.time_limit.FromSeconds(1)\n",
    "    solution = routing.SolveWithParameters(search_parameters)\n",
    "    if solution:\n",
    "        print_solution(data, manager, routing, solution)\n",
    "    else:\n",
    "        print(\"no solution\")"
   ]
  },
  {
   "cell_type": "code",
   "execution_count": 17,
   "id": "f77a5bd6-72a3-42e2-b0bf-aea606df4e72",
   "metadata": {},
   "outputs": [],
   "source": [
    "def print_solution(data, manager, routing, solution):\n",
    "    \"\"\"Prints solution on console.\"\"\"\n",
    "    print(f'Objective: {solution.ObjectiveValue()}')\n",
    "    total_distance = 0\n",
    "    total_load = 0\n",
    "    for vehicle_id in range(data['num_vehicles']):\n",
    "        index = routing.Start(vehicle_id)\n",
    "        plan_output = 'Route for vehicle {}:\\n'.format(vehicle_id)\n",
    "        route_distance = 0\n",
    "        route_load = 0\n",
    "        while not routing.IsEnd(index):\n",
    "            node_index = manager.IndexToNode(index)\n",
    "            route_load += data['demands'][node_index]\n",
    "            plan_output += ' {0} Load({1}) -> '.format(node_index, route_load)\n",
    "            previous_index = index\n",
    "            index = solution.Value(routing.NextVar(index))\n",
    "            route_distance += routing.GetArcCostForVehicle(\n",
    "                previous_index, index, vehicle_id)\n",
    "        plan_output += ' {0} Load({1})\\n'.format(manager.IndexToNode(index),\n",
    "                                                 route_load)\n",
    "        plan_output += 'Distance of the route: {}m\\n'.format(route_distance)\n",
    "        plan_output += 'Load of the route: {}\\n'.format(route_load)\n",
    "        print(plan_output)\n",
    "        total_distance += route_distance\n",
    "        total_load += route_load\n",
    "    print('Total distance of all routes: {}m'.format(total_distance))\n",
    "    print('Total load of all routes: {}'.format(total_load))\n"
   ]
  },
  {
   "cell_type": "code",
   "execution_count": 18,
   "id": "9f10866c-1ad8-40ca-9c36-da13fc6a18d6",
   "metadata": {},
   "outputs": [
    {
     "name": "stdout",
     "output_type": "stream",
     "text": [
      "Objective: 73\n",
      "Route for vehicle 0:\n",
      " 0 Load(0) ->  1 Load(3) ->  3 Load(5) ->  2 Load(10) ->  0 Load(10)\n",
      "Distance of the route: 39m\n",
      "Load of the route: 10\n",
      "\n",
      "Route for vehicle 1:\n",
      " 0 Load(0) ->  4 Load(6) ->  0 Load(6)\n",
      "Distance of the route: 34m\n",
      "Load of the route: 6\n",
      "\n",
      "Total distance of all routes: 73m\n",
      "Total load of all routes: 16\n"
     ]
    }
   ],
   "source": [
    "main()"
   ]
  },
  {
   "cell_type": "markdown",
   "id": "a5a5beb1-667f-4afd-a9b6-614b30c255e9",
   "metadata": {},
   "source": []
  },
  {
   "cell_type": "code",
   "execution_count": null,
   "id": "38166090-b993-4688-ae6c-ac2e5b89b5a8",
   "metadata": {},
   "outputs": [],
   "source": []
  }
 ],
 "metadata": {
  "kernelspec": {
   "display_name": "Python 3",
   "language": "python",
   "name": "python3"
  },
  "language_info": {
   "codemirror_mode": {
    "name": "ipython",
    "version": 3
   },
   "file_extension": ".py",
   "mimetype": "text/x-python",
   "name": "python",
   "nbconvert_exporter": "python",
   "pygments_lexer": "ipython3",
   "version": "3.8.5"
  }
 },
 "nbformat": 4,
 "nbformat_minor": 5
}
